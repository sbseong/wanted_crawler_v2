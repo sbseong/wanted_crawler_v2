{
 "cells": [
  {
   "cell_type": "code",
   "execution_count": 58,
   "metadata": {
    "execution": {
     "iopub.execute_input": "2022-10-13T06:55:22.628177Z",
     "iopub.status.busy": "2022-10-13T06:55:22.626782Z",
     "iopub.status.idle": "2022-10-13T06:55:22.639790Z",
     "shell.execute_reply": "2022-10-13T06:55:22.638183Z",
     "shell.execute_reply.started": "2022-10-13T06:55:22.628058Z"
    },
    "tags": []
   },
   "outputs": [],
   "source": [
    "# 초기에 selenium은 install 해야할 수 있음\n",
    "# !pip install selenium\n",
    "\n",
    "from selenium import webdriver\n",
    "from selenium.webdriver.common.by import By\n",
    "from selenium.webdriver.common.action_chains import ActionChains\n",
    "import time\n",
    "import pandas as pd\n",
    "import datetime \n",
    "import sys"
   ]
  },
  {
   "cell_type": "code",
   "execution_count": 2,
   "metadata": {
    "execution": {
     "iopub.execute_input": "2022-10-13T06:32:39.373621Z",
     "iopub.status.busy": "2022-10-13T06:32:39.373109Z",
     "iopub.status.idle": "2022-10-13T06:32:39.379962Z",
     "shell.execute_reply": "2022-10-13T06:32:39.379140Z",
     "shell.execute_reply.started": "2022-10-13T06:32:39.373517Z"
    },
    "tags": []
   },
   "outputs": [
    {
     "name": "stdout",
     "output_type": "stream",
     "text": [
      "Python Version : 3.8.3 (default, Jul  2 2020, 11:26:31) \n",
      "[Clang 10.0.0 ]\n",
      "Selenium webdriver Version : 4.5.0\n",
      "Pandas Version : 1.4.3\n"
     ]
    }
   ],
   "source": [
    "print(f'Python Version : {sys.version}')\n",
    "print(f'Selenium webdriver Version : {webdriver.__version__}')\n",
    "print(f'Pandas Version : {pd.__version__}')"
   ]
  },
  {
   "cell_type": "code",
   "execution_count": null,
   "metadata": {
    "execution": {
     "iopub.execute_input": "2022-10-13T06:32:41.336848Z",
     "iopub.status.busy": "2022-10-13T06:32:41.336305Z",
     "iopub.status.idle": "2022-10-13T06:32:41.341810Z",
     "shell.execute_reply": "2022-10-13T06:32:41.340619Z",
     "shell.execute_reply.started": "2022-10-13T06:32:41.336799Z"
    },
    "tags": []
   },
   "outputs": [
    {
     "ename": "",
     "evalue": "",
     "output_type": "error",
     "traceback": [
      "\u001b[1;31m'/usr/bin/python3'(으)로 셀을 실행하려면 ipykernel 패키지가 필요합니다.\n",
      "\u001b[1;31mRun the following command to install 'ipykernel' into the Python environment. \n",
      "\u001b[1;31mCommand: '/usr/bin/python3 -m pip install ipykernel -U --user --force-reinstall'"
     ]
    }
   ],
   "source": [
    "# ‘chromedriver’은(는) Apple에서 악성 소프트웨어가 있는지 확인할 수 없기 때문에 열 수 없습니다. 가 뜨면\n",
    "!xattr -d com.apple.quarantine chromedriver"
   ]
  },
  {
   "cell_type": "code",
   "execution_count": 3,
   "metadata": {
    "execution": {
     "iopub.execute_input": "2022-10-13T06:32:41.880769Z",
     "iopub.status.busy": "2022-10-13T06:32:41.880222Z",
     "iopub.status.idle": "2022-10-13T06:32:41.888498Z",
     "shell.execute_reply": "2022-10-13T06:32:41.887297Z",
     "shell.execute_reply.started": "2022-10-13T06:32:41.880719Z"
    },
    "tags": []
   },
   "outputs": [],
   "source": [
    "# 셀레니움 드라이버 시작\n",
    "def driver_start():\n",
    "    # user_agent\n",
    "    user_agent = 'user-agent=Mozilla/5.0 (Windows NT 6.1; WOW64; Trident/7.0; rv:11.0) like Gecko'\n",
    "    user_agent = 'Mozilla/5.0 (Linux; Android 9; SM-G975F) AppleWebKit/537.36 (KHTML, like Gecko) Chrome/71.0.3578.83 Mobile Safari/537.36'\n",
    "\n",
    "    # options setting\n",
    "    chrome_options = webdriver.ChromeOptions()\n",
    "    chrome_options.add_argument(user_agent) # Fake User Agent 설정\n",
    "    chrome_options.add_argument('--no-sandbox')\n",
    "    chrome_options.add_argument('--disable-dev-shm-usage')\n",
    "    chrome_options.add_argument('--blink-settings=imagesEnabled=false') #브라우저에서 이미지 로딩을 하지 않습니다.\n",
    "    chrome_options.add_argument('--mute-audio') #브라우저에 음소거 옵션을 적용합니다.\n",
    "    chrome_options.add_argument('incognito') #시크릿 모드의 브라우저가 실행됩니다.\n",
    "    chrome_options.add_argument('window-size={1000},{813}') #브라우저 사이즈 설정\n",
    "\n",
    "\n",
    "    # driver start\n",
    "    driver = webdriver.Chrome(executable_path='./chromedriver', options=chrome_options)\n",
    "    return driver"
   ]
  },
  {
   "cell_type": "code",
   "execution_count": 4,
   "metadata": {
    "execution": {
     "iopub.execute_input": "2022-10-13T06:32:42.392180Z",
     "iopub.status.busy": "2022-10-13T06:32:42.391884Z",
     "iopub.status.idle": "2022-10-13T06:32:42.398736Z",
     "shell.execute_reply": "2022-10-13T06:32:42.397754Z",
     "shell.execute_reply.started": "2022-10-13T06:32:42.392152Z"
    },
    "tags": []
   },
   "outputs": [],
   "source": [
    "# 스크롤 다운\n",
    "def scroll():\n",
    "    #스크롤 내리기 이동 전 위치\n",
    "    scroll_location = driver.execute_script(\"return document.body.scrollHeight\")\n",
    "\n",
    "    while True:\n",
    "        #현재 스크롤의 가장 아래로 내림\n",
    "        driver.execute_script(\"window.scrollTo(0,document.body.scrollHeight)\")\n",
    "\n",
    "        #전체 스크롤이 늘어날 때까지 대기\n",
    "        time.sleep(2)\n",
    "\n",
    "        #늘어난 스크롤 높이\n",
    "        scroll_height = driver.execute_script(\"return document.body.scrollHeight\")\n",
    "\n",
    "        #늘어난 스크롤 위치와 이동 전 위치 같으면(더 이상 스크롤이 늘어나지 않으면) 종료\n",
    "        if scroll_location == scroll_height:\n",
    "            break\n",
    "\n",
    "        #같지 않으면 스크롤 위치 값을 수정하여 같아질 때까지 반복\n",
    "        else:\n",
    "            #스크롤 위치값을 수정\n",
    "            scroll_location = driver.execute_script(\"return document.body.scrollHeight\")"
   ]
  },
  {
   "cell_type": "code",
   "execution_count": 26,
   "metadata": {},
   "outputs": [],
   "source": [
    "def scroll_down(driver):\n",
    "    \"\"\"\n",
    "    스크롤 끝까지 내리는 코드\n",
    "    \"\"\"\n",
    "    SCROLL_PAUSE_SEC = 3\n",
    "    # 스크롤 높이 가져옴\n",
    "    last_height = driver.execute_script(\"return document.body.scrollHeight\")\n",
    "    while True:\n",
    "        # 끝까지 스크롤 다운\n",
    "        driver.execute_script(\"window.scrollTo(0, document.body.scrollHeight);\")\n",
    "        # 1초 대기\n",
    "        time.sleep(SCROLL_PAUSE_SEC)\n",
    "        # 스크롤 다운 후 스크롤 높이 다시 가져옴\n",
    "        new_height = driver.execute_script(\"return document.body.scrollHeight\")\n",
    "        if new_height == last_height:\n",
    "            break\n",
    "        last_height = new_height\n",
    "    print(\"스크롤 다운 완료!\")"
   ]
  },
  {
   "cell_type": "code",
   "execution_count": 37,
   "metadata": {
    "execution": {
     "iopub.execute_input": "2022-10-13T06:32:42.597318Z",
     "iopub.status.busy": "2022-10-13T06:32:42.596782Z",
     "iopub.status.idle": "2022-10-13T06:32:42.611131Z",
     "shell.execute_reply": "2022-10-13T06:32:42.610234Z",
     "shell.execute_reply.started": "2022-10-13T06:32:42.597271Z"
    },
    "scrolled": true,
    "tags": []
   },
   "outputs": [],
   "source": [
    "# 채용공고 url 획득\n",
    "\n",
    "def get_urls(driver, url):\n",
    "\n",
    "    driver.get(url)\n",
    "    time.sleep(3)\n",
    "    \n",
    "    # urls 저장\n",
    "    position_urls = []\n",
    "    \n",
    "#     # 50인 이하 클릭\n",
    "#     driver.find_element(By.XPATH,'/html/body/div[1]/div[3]/div/div/div[1]/div[1]/section/div/div/div/div/div[6]/div/button').click()\n",
    "    \n",
    "    scroll_down(driver)\n",
    "    \n",
    "    # 채용공고를 아래로 스크롤하여 더 추가할 경우 아래 주석을 풀고 실행, 오래걸림 주의\n",
    "    position_length = len(driver.find_elements(By.CLASS_NAME, 'Card_className__u5rsb'))\n",
    "            \n",
    "    time.sleep(1)\n",
    "    for i in range(position_length):\n",
    "        position_url = driver.find_element(By.CLASS_NAME, 'List_List_container__JnQMS').find_element(By.CSS_SELECTOR, 'ul').find_elements(By.CSS_SELECTOR, 'li')[i].find_element(By.CSS_SELECTOR, 'div').find_element(By.CSS_SELECTOR, 'a').get_attribute('href')\n",
    "        position_urls.append(position_url)\n",
    "\n",
    "    print(\"링크 개수 : \", end='')\n",
    "    print(position_length)\n",
    "        \n",
    "    return position_urls"
   ]
  },
  {
   "cell_type": "code",
   "execution_count": 55,
   "metadata": {
    "execution": {
     "iopub.execute_input": "2022-10-13T07:56:52.451633Z",
     "iopub.status.busy": "2022-10-13T07:56:52.450736Z",
     "iopub.status.idle": "2022-10-13T07:56:52.478017Z",
     "shell.execute_reply": "2022-10-13T07:56:52.477342Z",
     "shell.execute_reply.started": "2022-10-13T07:56:52.451563Z"
    },
    "tags": []
   },
   "outputs": [],
   "source": [
    "# 각 채용공고 별 상세 jd 획득\n",
    "def crawling_wanted(position_urls, driver):\n",
    "    results =[]\n",
    "    for i in range(len(position_urls)):\n",
    "#         print(f'{i+1} / {len(position_urls)}')\n",
    "        driver.get(position_urls[i])  \n",
    "        result = {\n",
    "            '기업명': '',\n",
    "            '공고 제목' : '',\n",
    "            '산업분류' : '',\n",
    "            '태그' : '',\n",
    "            '마감일' : '',\n",
    "            '주요업무' : '',\n",
    "            '자격요건' : '',\n",
    "            '우대사항' : '',\n",
    "            '혜택 및 복지' : '',\n",
    "            'URL' : '',\n",
    "         }\n",
    "        time.sleep(3)\n",
    "        # 기업명, 공고 제목, URL\n",
    "        \n",
    "        try:\n",
    "            company_name =  driver.find_elements(By.XPATH, '/html/body/div[1]/div[3]/div[1]/div[1]/div[1]/section[2]/div[1]/h6/a')[0].text\n",
    "            result['기업명'] = company_name\n",
    "            job_title = driver.find_elements(By.XPATH, '/html/body/div[1]/div[3]/div[1]/div[1]/div[1]/section[2]/h2')[0].text\n",
    "            result['공고 제목'] = job_title\n",
    "            industry = driver.find_elements(By.XPATH, '/html/body/div[1]/div[3]/div[1]/div[1]/div[1]/section[3]/button[1]/div[2]/h6')[0].text\n",
    "            result['산업분류'] = industry\n",
    "            tag = driver.find_elements(By.XPATH, '/html/body/div[1]/div[3]/div[1]/div[1]/div[1]/section[2]/div[3]')[0].text\n",
    "            result['태그'] = tag\n",
    "            driver.execute_script(\"window.scrollTo(0,document.body.scrollHeight)\")\n",
    "        \n",
    "            # 마감일 동적 페이지 로딩을 위해 페이지 이동\n",
    "            action = ActionChains(driver)\n",
    "            element = driver.find_elements(By.CLASS_NAME, 'WarningHeader_WarningHeader__F1ikW')[0]\n",
    "            action.move_to_element(element).perform()\n",
    "            time.sleep(0.5)\n",
    "        \n",
    "        \n",
    "#             마감일\n",
    "            date = driver.find_elements(By.XPATH, '/html/body/div[1]/div[3]/div[1]/div[1]/div[1]/div[2]/section[2]/div[1]/span[2]')[0].text\n",
    "            result['마감일'] = date\n",
    "            result['URL'] = position_urls[i]\n",
    "\n",
    "            # JD - title\n",
    "            driver.find_elements(By.XPATH, '/html/body/div[1]/div[3]/div[1]/div[1]/div[1]/div[2]/section[1]/h6')\n",
    "            size = len(driver.find_elements(By.XPATH, '/html/body/div[1]/div[3]/div[1]/div[1]/div[1]/div[2]/section[1]/h6'))\n",
    "            \n",
    "            for j in range(1, size+1):\n",
    "                title = driver.find_elements(By.XPATH, '/html/body/div[1]/div[3]/div[1]/div[1]/div[1]/div[2]/section[1]/h6')[j-1].text\n",
    "                content = driver.find_elements(By.XPATH, '/html/body/div[1]/div[3]/div[1]/div[1]/div[1]/div[2]/section[1]/p')[j].text\n",
    "                result[title] = content\n",
    "                results.append(result)\n",
    "            \n",
    "        except:\n",
    "            print(\"채용 정보를 가져오지 못 했습니다.\")\n",
    "            continue\n",
    "        \n",
    "    return results"
   ]
  },
  {
   "cell_type": "code",
   "execution_count": 7,
   "metadata": {
    "execution": {
     "iopub.execute_input": "2022-10-13T07:56:54.338819Z",
     "iopub.status.busy": "2022-10-13T07:56:54.338133Z",
     "iopub.status.idle": "2022-10-13T07:56:54.349332Z",
     "shell.execute_reply": "2022-10-13T07:56:54.348508Z",
     "shell.execute_reply.started": "2022-10-13T07:56:54.338630Z"
    },
    "tags": []
   },
   "outputs": [],
   "source": [
    "def make_df(results):\n",
    "    wanted_crawling = pd.DataFrame(results)\n",
    "    # 중복체크\n",
    "    if wanted_crawling.duplicated('URL').sum():\n",
    "        print(f'Drop Duplicated : {wanted_crawling.duplicated(\"URL\").sum()}')\n",
    "        wanted_crawling = wanted_crawling.drop_duplicates()\n",
    "    return wanted_crawling"
   ]
  },
  {
   "cell_type": "code",
   "execution_count": 8,
   "metadata": {
    "execution": {
     "iopub.execute_input": "2022-10-13T07:56:54.501404Z",
     "iopub.status.busy": "2022-10-13T07:56:54.501133Z",
     "iopub.status.idle": "2022-10-13T07:56:54.506186Z",
     "shell.execute_reply": "2022-10-13T07:56:54.505228Z",
     "shell.execute_reply.started": "2022-10-13T07:56:54.501381Z"
    },
    "tags": []
   },
   "outputs": [],
   "source": [
    "def save_df(wanted_crawling):\n",
    "    # Data Frame save\n",
    "    today = datetime.datetime.now().strftime('%Y-%m-%d %H:%M:%S')\n",
    "    wanted_crawling.to_csv(f'./datas/{today}_wanted_crawling.csv', index=False, line_terminator = '\\n')\n",
    "    print('Save 완료!')"
   ]
  },
  {
   "cell_type": "code",
   "execution_count": 18,
   "metadata": {},
   "outputs": [
    {
     "ename": "ModuleNotFoundError",
     "evalue": "No module named 'google.colab'",
     "output_type": "error",
     "traceback": [
      "\u001b[0;31m---------------------------------------------------------------------------\u001b[0m",
      "\u001b[0;31mModuleNotFoundError\u001b[0m                       Traceback (most recent call last)",
      "\u001b[0;32m<ipython-input-18-ebc1785aca00>\u001b[0m in \u001b[0;36m<module>\u001b[0;34m\u001b[0m\n\u001b[0;32m----> 1\u001b[0;31m \u001b[0;32mfrom\u001b[0m \u001b[0mgoogle\u001b[0m\u001b[0;34m.\u001b[0m\u001b[0mcolab\u001b[0m \u001b[0;32mimport\u001b[0m \u001b[0mauth\u001b[0m\u001b[0;34m\u001b[0m\u001b[0;34m\u001b[0m\u001b[0m\n\u001b[0m\u001b[1;32m      2\u001b[0m \u001b[0;32mimport\u001b[0m \u001b[0mgspread\u001b[0m\u001b[0;34m\u001b[0m\u001b[0;34m\u001b[0m\u001b[0m\n\u001b[1;32m      3\u001b[0m \u001b[0;32mfrom\u001b[0m \u001b[0mgoogle\u001b[0m\u001b[0;34m.\u001b[0m\u001b[0mauth\u001b[0m \u001b[0;32mimport\u001b[0m \u001b[0mdefault\u001b[0m\u001b[0;34m\u001b[0m\u001b[0;34m\u001b[0m\u001b[0m\n\u001b[1;32m      4\u001b[0m \u001b[0;34m\u001b[0m\u001b[0m\n\u001b[1;32m      5\u001b[0m \u001b[0;31m# def make_url_with_spreadsheet():\u001b[0m\u001b[0;34m\u001b[0m\u001b[0;34m\u001b[0m\u001b[0;34m\u001b[0m\u001b[0m\n",
      "\u001b[0;31mModuleNotFoundError\u001b[0m: No module named 'google.colab'"
     ]
    }
   ],
   "source": [
    "# # colab only\n",
    "# from google.colab import auth\n",
    "# import gspread\n",
    "# from google.auth import default\n",
    "\n",
    "# # def make_url_with_spreadsheet():\n",
    "# auth.authenticate_user()\n",
    "# creds, _ = default()\n",
    "# gc = gspread.authorize(creds)\n",
    "\n",
    "# gsheets = gc.open_by_url('https://docs.google.com/spreadsheets/d/1AO2L-s48ny3A2UuY21I38ax8zQ8CIMJRP33_yyD7ZCw')\n",
    "# sheet_names = ['job']\n",
    "# sheets = gsheets.worksheet(sheet_names[0]).get_all_values()\n",
    "# df = pd.DataFrame(sheets)\n",
    "# df[:][2]\n",
    "\n",
    "# print('링크 로딩 완료!')"
   ]
  },
  {
   "cell_type": "code",
   "execution_count": 38,
   "metadata": {
    "execution": {
     "iopub.execute_input": "2022-10-13T08:00:46.665449Z",
     "iopub.status.busy": "2022-10-13T08:00:46.664209Z",
     "iopub.status.idle": "2022-10-13T08:02:29.207069Z",
     "shell.execute_reply": "2022-10-13T08:02:29.206737Z",
     "shell.execute_reply.started": "2022-10-13T08:00:46.665358Z"
    },
    "tags": []
   },
   "outputs": [
    {
     "name": "stderr",
     "output_type": "stream",
     "text": [
      "<ipython-input-3-46708426ca63>:19: DeprecationWarning: executable_path has been deprecated, please pass in a Service object\n",
      "  driver = webdriver.Chrome(executable_path='./chromedriver', options=chrome_options)\n"
     ]
    },
    {
     "name": "stdout",
     "output_type": "stream",
     "text": [
      "스크롤 다운 완료!\n",
      "링크 개수 : 66\n",
      "스크롤 다운 완료!\n",
      "링크 개수 : 31\n",
      "스크롤 다운 완료!\n",
      "링크 개수 : 50\n",
      "스크롤 다운 완료!\n",
      "링크 개수 : 18\n",
      "스크롤 다운 완료!\n",
      "링크 개수 : 45\n",
      "스크롤 다운 완료!\n",
      "링크 개수 : 39\n",
      "스크롤 다운 완료!\n",
      "링크 개수 : 3\n",
      "스크롤 다운 완료!\n",
      "링크 개수 : 30\n",
      "스크롤 다운 완료!\n",
      "링크 개수 : 41\n",
      "스크롤 다운 완료!\n",
      "링크 개수 : 0\n",
      "스크롤 다운 완료!\n",
      "링크 개수 : 60\n",
      "스크롤 다운 완료!\n",
      "링크 개수 : 59\n",
      "스크롤 다운 완료!\n",
      "링크 개수 : 3\n",
      "스크롤 다운 완료!\n",
      "링크 개수 : 105\n",
      "스크롤 다운 완료!\n",
      "링크 개수 : 94\n",
      "스크롤 다운 완료!\n",
      "링크 개수 : 8\n"
     ]
    }
   ],
   "source": [
    "driver = driver_start()\n",
    "\n",
    "# https://docs.google.com/spreadsheets/d/1AO2L-s48ny3A2UuY21I38ax8zQ8CIMJRP33_yyD7ZCw/edit#gid=0\n",
    "\n",
    "MLE_url = ['https://www.wanted.co.kr/search?query=ML',\n",
    " 'https://www.wanted.co.kr/search?query=machine%20learning',\n",
    " 'https://www.wanted.co.kr/search?query=%EB%A8%B8%EC%8B%A0%EB%9F%AC%EB%8B%9D',\n",
    " 'https://www.wanted.co.kr/search?query=deep%20learning',\n",
    " 'https://www.wanted.co.kr/search?query=%EB%94%A5%EB%9F%AC%EB%8B%9D', #딥러닝\n",
    " 'https://www.wanted.co.kr/search?query=%EC%9D%B8%EA%B3%B5%EC%A7%80%EB%8A%A5', # 인공지능\n",
    " 'https://www.wanted.co.kr/search?query=%EC%BB%B4%ED%93%A8%ED%84%B0%EB%B9%84%EC%A0%84', # 컴퓨터비전\n",
    " 'https://www.wanted.co.kr/search?query=%EC%BB%B4%ED%93%A8%ED%84%B0%20%EB%B9%84%EC%A0%84', # 컴퓨터 비전\n",
    " 'https://www.wanted.co.kr/search?query=computer%20vision',\n",
    " 'https://www.wanted.co.kr/search?query=vision']\n",
    "DS_url = ['https://www.wanted.co.kr/search?query=%EB%8D%B0%EC%9D%B4%ED%84%B0%EC%82%AC%EC%9D%B4%EC%96%B8%ED%8B%B0%EC%8A%A4%ED%8A%B8',\n",
    " 'https://www.wanted.co.kr/search?query=%EB%8D%B0%EC%9D%B4%ED%84%B0%20%EC%82%AC%EC%9D%B4%EC%96%B8%ED%8B%B0%EC%8A%A4%ED%8A%B8',\n",
    " 'https://www.wanted.co.kr/search?query=data%20scientist',\n",
    " 'https://www.wanted.co.kr/search?query=%EB%8D%B0%EC%9D%B4%ED%84%B0%20%EA%B3%BC%ED%95%99%EC%9E%90']\n",
    "DA_url = ['https://www.wanted.co.kr/search?query=%EB%8D%B0%EC%9D%B4%ED%84%B0%20%EB%B6%84%EC%84%9D%EA%B0%80',\n",
    " 'https://www.wanted.co.kr/search?query=data%20analyst',  \n",
    " 'https://www.wanted.co.kr/search?query=%EB%8D%B0%EC%9D%B4%ED%84%B0%20%EC%95%A0%EB%84%90%EB%A6%AC%EC%8A%A4%ED%8A%B8']\n",
    "DE_url = ['https://www.wanted.co.kr/search?query=%EB%8D%B0%EC%9D%B4%ED%84%B0%20%EC%97%94%EC%A7%80%EB%8B%88%EC%96%B4',\n",
    " 'https://www.wanted.co.kr/search?query=data%20engineer',\n",
    " 'https://www.wanted.co.kr/search?query=%EB%8D%B0%EC%9D%B4%ED%84%B0%EC%97%94%EC%A7%80%EB%8B%88%EC%96%B4']\n",
    "\n",
    "for i in range(len(MLE_url)):\n",
    "    if(i == 0): MLE_position_urls = get_urls(driver, MLE_url[i])\n",
    "    else: MLE_position_urls.extend(get_urls(driver, MLE_url[i]))\n",
    "        \n",
    "for i in range(len(DS_url)):\n",
    "    if(i == 0): DS_position_urls = get_urls(driver, DS_url[i])\n",
    "    else: DS_position_urls.extend(get_urls(driver, DS_url[i]))\n",
    "        \n",
    "for i in range(len(DA_url)):\n",
    "    if(i == 0): DA_position_urls = get_urls(driver, DA_url[i])\n",
    "    else: DA_position_urls.extend(get_urls(driver, DA_url[i]))\n",
    "        \n",
    "for i in range(len(DE_url)):\n",
    "    if(i == 0): DE_position_urls = get_urls(driver, DE_url[i])\n",
    "    else: DE_position_urls.extend(get_urls(driver, DE_url[i]))\n"
   ]
  },
  {
   "cell_type": "code",
   "execution_count": 43,
   "metadata": {},
   "outputs": [
    {
     "name": "stdout",
     "output_type": "stream",
     "text": [
      "249\n",
      "74\n",
      "122\n",
      "207\n"
     ]
    }
   ],
   "source": [
    "print(len(MLE_position_urls))\n",
    "print(len(DS_position_urls))\n",
    "print(len(DA_position_urls))\n",
    "print(len(DE_position_urls))"
   ]
  },
  {
   "cell_type": "code",
   "execution_count": 46,
   "metadata": {},
   "outputs": [
    {
     "data": {
      "text/plain": [
       "['https://www.wanted.co.kr/wd/63547',\n",
       " 'https://www.wanted.co.kr/wd/94316',\n",
       " 'https://www.wanted.co.kr/wd/117605',\n",
       " 'https://www.wanted.co.kr/wd/90288',\n",
       " 'https://www.wanted.co.kr/wd/61066',\n",
       " 'https://www.wanted.co.kr/wd/123380',\n",
       " 'https://www.wanted.co.kr/wd/114176',\n",
       " 'https://www.wanted.co.kr/wd/106875',\n",
       " 'https://www.wanted.co.kr/wd/36413',\n",
       " 'https://www.wanted.co.kr/wd/106594',\n",
       " 'https://www.wanted.co.kr/wd/97166',\n",
       " 'https://www.wanted.co.kr/wd/92460',\n",
       " 'https://www.wanted.co.kr/wd/126742',\n",
       " 'https://www.wanted.co.kr/wd/132230',\n",
       " 'https://www.wanted.co.kr/wd/111272',\n",
       " 'https://www.wanted.co.kr/wd/110126',\n",
       " 'https://www.wanted.co.kr/wd/107285',\n",
       " 'https://www.wanted.co.kr/wd/64640',\n",
       " 'https://www.wanted.co.kr/wd/123360',\n",
       " 'https://www.wanted.co.kr/wd/93656',\n",
       " 'https://www.wanted.co.kr/wd/96372',\n",
       " 'https://www.wanted.co.kr/wd/96374',\n",
       " 'https://www.wanted.co.kr/wd/100508',\n",
       " 'https://www.wanted.co.kr/wd/100509',\n",
       " 'https://www.wanted.co.kr/wd/100512',\n",
       " 'https://www.wanted.co.kr/wd/83267',\n",
       " 'https://www.wanted.co.kr/wd/125721',\n",
       " 'https://www.wanted.co.kr/wd/66341',\n",
       " 'https://www.wanted.co.kr/wd/131077',\n",
       " 'https://www.wanted.co.kr/wd/34993',\n",
       " 'https://www.wanted.co.kr/wd/103101',\n",
       " 'https://www.wanted.co.kr/wd/118678',\n",
       " 'https://www.wanted.co.kr/wd/103499',\n",
       " 'https://www.wanted.co.kr/wd/103504',\n",
       " 'https://www.wanted.co.kr/wd/103507',\n",
       " 'https://www.wanted.co.kr/wd/116418',\n",
       " 'https://www.wanted.co.kr/wd/120325',\n",
       " 'https://www.wanted.co.kr/wd/48334',\n",
       " 'https://www.wanted.co.kr/wd/124418',\n",
       " 'https://www.wanted.co.kr/wd/122841',\n",
       " 'https://www.wanted.co.kr/wd/117974',\n",
       " 'https://www.wanted.co.kr/wd/123003',\n",
       " 'https://www.wanted.co.kr/wd/100175',\n",
       " 'https://www.wanted.co.kr/wd/134447',\n",
       " 'https://www.wanted.co.kr/wd/130071',\n",
       " 'https://www.wanted.co.kr/wd/114916',\n",
       " 'https://www.wanted.co.kr/wd/132055',\n",
       " 'https://www.wanted.co.kr/wd/133626',\n",
       " 'https://www.wanted.co.kr/wd/90153',\n",
       " 'https://www.wanted.co.kr/wd/131308',\n",
       " 'https://www.wanted.co.kr/wd/120865',\n",
       " 'https://www.wanted.co.kr/wd/93102',\n",
       " 'https://www.wanted.co.kr/wd/110101',\n",
       " 'https://www.wanted.co.kr/wd/130141',\n",
       " 'https://www.wanted.co.kr/wd/92739',\n",
       " 'https://www.wanted.co.kr/wd/83486',\n",
       " 'https://www.wanted.co.kr/wd/120163',\n",
       " 'https://www.wanted.co.kr/wd/76220',\n",
       " 'https://www.wanted.co.kr/wd/132326',\n",
       " 'https://www.wanted.co.kr/wd/115594',\n",
       " 'https://www.wanted.co.kr/wd/93472',\n",
       " 'https://www.wanted.co.kr/wd/131449',\n",
       " 'https://www.wanted.co.kr/wd/124238',\n",
       " 'https://www.wanted.co.kr/wd/130824',\n",
       " 'https://www.wanted.co.kr/wd/131359',\n",
       " 'https://www.wanted.co.kr/wd/107872',\n",
       " 'https://www.wanted.co.kr/wd/103540',\n",
       " 'https://www.wanted.co.kr/wd/65411',\n",
       " 'https://www.wanted.co.kr/wd/12236',\n",
       " 'https://www.wanted.co.kr/wd/18238',\n",
       " 'https://www.wanted.co.kr/wd/117751',\n",
       " 'https://www.wanted.co.kr/wd/128228',\n",
       " 'https://www.wanted.co.kr/wd/96265',\n",
       " 'https://www.wanted.co.kr/wd/106323',\n",
       " 'https://www.wanted.co.kr/wd/104901',\n",
       " 'https://www.wanted.co.kr/wd/117756',\n",
       " 'https://www.wanted.co.kr/wd/133056',\n",
       " 'https://www.wanted.co.kr/wd/133054',\n",
       " 'https://www.wanted.co.kr/wd/105460',\n",
       " 'https://www.wanted.co.kr/wd/112211',\n",
       " 'https://www.wanted.co.kr/wd/105459',\n",
       " 'https://www.wanted.co.kr/wd/121264',\n",
       " 'https://www.wanted.co.kr/wd/81664',\n",
       " 'https://www.wanted.co.kr/wd/63737',\n",
       " 'https://www.wanted.co.kr/wd/99315',\n",
       " 'https://www.wanted.co.kr/wd/118630',\n",
       " 'https://www.wanted.co.kr/wd/120749',\n",
       " 'https://www.wanted.co.kr/wd/101934',\n",
       " 'https://www.wanted.co.kr/wd/132417',\n",
       " 'https://www.wanted.co.kr/wd/119282',\n",
       " 'https://www.wanted.co.kr/wd/109203',\n",
       " 'https://www.wanted.co.kr/wd/132252',\n",
       " 'https://www.wanted.co.kr/wd/121972',\n",
       " 'https://www.wanted.co.kr/wd/54353',\n",
       " 'https://www.wanted.co.kr/wd/124269',\n",
       " 'https://www.wanted.co.kr/wd/49621',\n",
       " 'https://www.wanted.co.kr/wd/131668',\n",
       " 'https://www.wanted.co.kr/wd/79538',\n",
       " 'https://www.wanted.co.kr/wd/104274',\n",
       " 'https://www.wanted.co.kr/wd/106503',\n",
       " 'https://www.wanted.co.kr/wd/122701',\n",
       " 'https://www.wanted.co.kr/wd/23634',\n",
       " 'https://www.wanted.co.kr/wd/90288',\n",
       " 'https://www.wanted.co.kr/wd/12236',\n",
       " 'https://www.wanted.co.kr/wd/18238',\n",
       " 'https://www.wanted.co.kr/wd/87062',\n",
       " 'https://www.wanted.co.kr/wd/44698',\n",
       " 'https://www.wanted.co.kr/wd/78801',\n",
       " 'https://www.wanted.co.kr/wd/130451',\n",
       " 'https://www.wanted.co.kr/wd/123743',\n",
       " 'https://www.wanted.co.kr/wd/113710',\n",
       " 'https://www.wanted.co.kr/wd/113583',\n",
       " 'https://www.wanted.co.kr/wd/132230',\n",
       " 'https://www.wanted.co.kr/wd/63936',\n",
       " 'https://www.wanted.co.kr/wd/81180',\n",
       " 'https://www.wanted.co.kr/wd/85675',\n",
       " 'https://www.wanted.co.kr/wd/47118',\n",
       " 'https://www.wanted.co.kr/wd/66341',\n",
       " 'https://www.wanted.co.kr/wd/126986',\n",
       " 'https://www.wanted.co.kr/wd/110902',\n",
       " 'https://www.wanted.co.kr/wd/43741',\n",
       " 'https://www.wanted.co.kr/wd/65925',\n",
       " 'https://www.wanted.co.kr/wd/119154',\n",
       " 'https://www.wanted.co.kr/wd/121022',\n",
       " 'https://www.wanted.co.kr/wd/100443',\n",
       " 'https://www.wanted.co.kr/wd/51080',\n",
       " 'https://www.wanted.co.kr/wd/104027',\n",
       " 'https://www.wanted.co.kr/wd/72264',\n",
       " 'https://www.wanted.co.kr/wd/101934',\n",
       " 'https://www.wanted.co.kr/wd/107449',\n",
       " 'https://www.wanted.co.kr/wd/121322',\n",
       " 'https://www.wanted.co.kr/wd/69475',\n",
       " 'https://www.wanted.co.kr/wd/42992',\n",
       " 'https://www.wanted.co.kr/wd/120275',\n",
       " 'https://www.wanted.co.kr/wd/120278',\n",
       " 'https://www.wanted.co.kr/wd/132170',\n",
       " 'https://www.wanted.co.kr/wd/19529',\n",
       " 'https://www.wanted.co.kr/wd/35398',\n",
       " 'https://www.wanted.co.kr/wd/69472',\n",
       " 'https://www.wanted.co.kr/wd/49706',\n",
       " 'https://www.wanted.co.kr/wd/98939',\n",
       " 'https://www.wanted.co.kr/wd/60122',\n",
       " 'https://www.wanted.co.kr/wd/92395',\n",
       " 'https://www.wanted.co.kr/wd/130767',\n",
       " 'https://www.wanted.co.kr/wd/111503',\n",
       " 'https://www.wanted.co.kr/wd/111502',\n",
       " 'https://www.wanted.co.kr/wd/111480',\n",
       " 'https://www.wanted.co.kr/wd/124280',\n",
       " 'https://www.wanted.co.kr/wd/104636',\n",
       " 'https://www.wanted.co.kr/wd/75640',\n",
       " 'https://www.wanted.co.kr/wd/126130',\n",
       " 'https://www.wanted.co.kr/wd/118628',\n",
       " 'https://www.wanted.co.kr/wd/79938',\n",
       " 'https://www.wanted.co.kr/wd/75898',\n",
       " 'https://www.wanted.co.kr/wd/128513',\n",
       " 'https://www.wanted.co.kr/wd/126719',\n",
       " 'https://www.wanted.co.kr/wd/123842',\n",
       " 'https://www.wanted.co.kr/wd/126311',\n",
       " 'https://www.wanted.co.kr/wd/132059',\n",
       " 'https://www.wanted.co.kr/wd/114950',\n",
       " 'https://www.wanted.co.kr/wd/114923',\n",
       " 'https://www.wanted.co.kr/wd/123484',\n",
       " 'https://www.wanted.co.kr/wd/53701',\n",
       " 'https://www.wanted.co.kr/wd/49799',\n",
       " 'https://www.wanted.co.kr/wd/111052',\n",
       " 'https://www.wanted.co.kr/wd/79538',\n",
       " 'https://www.wanted.co.kr/wd/56969',\n",
       " 'https://www.wanted.co.kr/wd/72217',\n",
       " 'https://www.wanted.co.kr/wd/72219',\n",
       " 'https://www.wanted.co.kr/wd/72220',\n",
       " 'https://www.wanted.co.kr/wd/104274',\n",
       " 'https://www.wanted.co.kr/wd/82150',\n",
       " 'https://www.wanted.co.kr/wd/45157',\n",
       " 'https://www.wanted.co.kr/wd/29701',\n",
       " 'https://www.wanted.co.kr/wd/90288',\n",
       " 'https://www.wanted.co.kr/wd/71968',\n",
       " 'https://www.wanted.co.kr/wd/61708',\n",
       " 'https://www.wanted.co.kr/wd/111904',\n",
       " 'https://www.wanted.co.kr/wd/125592',\n",
       " 'https://www.wanted.co.kr/wd/63936',\n",
       " 'https://www.wanted.co.kr/wd/114542',\n",
       " 'https://www.wanted.co.kr/wd/130706',\n",
       " 'https://www.wanted.co.kr/wd/132626',\n",
       " 'https://www.wanted.co.kr/wd/98950',\n",
       " 'https://www.wanted.co.kr/wd/125125',\n",
       " 'https://www.wanted.co.kr/wd/128452',\n",
       " 'https://www.wanted.co.kr/wd/40833',\n",
       " 'https://www.wanted.co.kr/wd/104027',\n",
       " 'https://www.wanted.co.kr/wd/110569',\n",
       " 'https://www.wanted.co.kr/wd/113177',\n",
       " 'https://www.wanted.co.kr/wd/126311',\n",
       " 'https://www.wanted.co.kr/wd/132059',\n",
       " 'https://www.wanted.co.kr/wd/114950',\n",
       " 'https://www.wanted.co.kr/wd/114923',\n",
       " 'https://www.wanted.co.kr/wd/114916',\n",
       " 'https://www.wanted.co.kr/wd/72667',\n",
       " 'https://www.wanted.co.kr/wd/121322',\n",
       " 'https://www.wanted.co.kr/wd/69475',\n",
       " 'https://www.wanted.co.kr/wd/32979',\n",
       " 'https://www.wanted.co.kr/wd/19529',\n",
       " 'https://www.wanted.co.kr/wd/113170',\n",
       " 'https://www.wanted.co.kr/wd/76066',\n",
       " 'https://www.wanted.co.kr/wd/35398',\n",
       " 'https://www.wanted.co.kr/wd/69472',\n",
       " 'https://www.wanted.co.kr/wd/122386',\n",
       " 'https://www.wanted.co.kr/wd/132305',\n",
       " 'https://www.wanted.co.kr/wd/132309',\n",
       " 'https://www.wanted.co.kr/wd/132311',\n",
       " 'https://www.wanted.co.kr/wd/21479',\n",
       " 'https://www.wanted.co.kr/wd/32308',\n",
       " 'https://www.wanted.co.kr/wd/94316',\n",
       " 'https://www.wanted.co.kr/wd/117164',\n",
       " 'https://www.wanted.co.kr/wd/131939',\n",
       " 'https://www.wanted.co.kr/wd/108146',\n",
       " 'https://www.wanted.co.kr/wd/100405',\n",
       " 'https://www.wanted.co.kr/wd/60461',\n",
       " 'https://www.wanted.co.kr/wd/122540',\n",
       " 'https://www.wanted.co.kr/wd/115895',\n",
       " 'https://www.wanted.co.kr/wd/123039',\n",
       " 'https://www.wanted.co.kr/wd/80886',\n",
       " 'https://www.wanted.co.kr/wd/79130',\n",
       " 'https://www.wanted.co.kr/wd/80889',\n",
       " 'https://www.wanted.co.kr/wd/81180',\n",
       " 'https://www.wanted.co.kr/wd/113558',\n",
       " 'https://www.wanted.co.kr/wd/20063',\n",
       " 'https://www.wanted.co.kr/wd/20066',\n",
       " 'https://www.wanted.co.kr/wd/64636',\n",
       " 'https://www.wanted.co.kr/wd/54058',\n",
       " 'https://www.wanted.co.kr/wd/35357',\n",
       " 'https://www.wanted.co.kr/wd/129440',\n",
       " 'https://www.wanted.co.kr/wd/129197',\n",
       " 'https://www.wanted.co.kr/wd/91326',\n",
       " 'https://www.wanted.co.kr/wd/98950',\n",
       " 'https://www.wanted.co.kr/wd/67203',\n",
       " 'https://www.wanted.co.kr/wd/128819',\n",
       " 'https://www.wanted.co.kr/wd/70433',\n",
       " 'https://www.wanted.co.kr/wd/40215',\n",
       " 'https://www.wanted.co.kr/wd/110338',\n",
       " 'https://www.wanted.co.kr/wd/122131',\n",
       " 'https://www.wanted.co.kr/wd/121912',\n",
       " 'https://www.wanted.co.kr/wd/64759',\n",
       " 'https://www.wanted.co.kr/wd/115129',\n",
       " 'https://www.wanted.co.kr/wd/18285',\n",
       " 'https://www.wanted.co.kr/wd/48282',\n",
       " 'https://www.wanted.co.kr/wd/86236',\n",
       " 'https://www.wanted.co.kr/wd/129127',\n",
       " 'https://www.wanted.co.kr/wd/133987',\n",
       " 'https://www.wanted.co.kr/wd/124933',\n",
       " 'https://www.wanted.co.kr/wd/132831']"
      ]
     },
     "execution_count": 46,
     "metadata": {},
     "output_type": "execute_result"
    }
   ],
   "source": [
    "MLE_position_urls"
   ]
  },
  {
   "cell_type": "code",
   "execution_count": 56,
   "metadata": {},
   "outputs": [
    {
     "name": "stderr",
     "output_type": "stream",
     "text": [
      "<ipython-input-3-46708426ca63>:19: DeprecationWarning: executable_path has been deprecated, please pass in a Service object\n",
      "  driver = webdriver.Chrome(executable_path='./chromedriver', options=chrome_options)\n"
     ]
    },
    {
     "name": "stdout",
     "output_type": "stream",
     "text": [
      "Drop Duplicated : 962\n",
      "Save 완료!\n"
     ]
    }
   ],
   "source": [
    "# if chrome window was dead, you need to do \"driver = driver_start()\" agian\"\n",
    "driver = driver_start()\n",
    "\n",
    "# 빈 list를 생성\n",
    "MLE_result = list()\n",
    "DS_result = list()\n",
    "DA_result = list()\n",
    "DE_result = list()"
   ]
  },
  {
   "cell_type": "code",
   "execution_count": null,
   "metadata": {},
   "outputs": [],
   "source": [
    "# 크롤링 시작\n",
    "MLE_result = crawling_wanted(MLE_position_urls, driver)\n",
    "wanted_crawling_MLE = make_df(MLE_result)\n",
    "save_df(wanted_crawling_MLE)"
   ]
  },
  {
   "cell_type": "code",
   "execution_count": 57,
   "metadata": {},
   "outputs": [
    {
     "name": "stdout",
     "output_type": "stream",
     "text": [
      "Drop Duplicated : 293\n",
      "Save 완료!\n",
      "Drop Duplicated : 466\n",
      "Save 완료!\n",
      "Drop Duplicated : 809\n",
      "Save 완료!\n"
     ]
    }
   ],
   "source": [
    "DS_result = crawling_wanted(DS_position_urls, driver)\n",
    "wanted_crawling_DS = make_df(DS_result)\n",
    "save_df(wanted_crawling_DS)\n",
    "\n",
    "DA_result = crawling_wanted(DA_position_urls, driver)\n",
    "wanted_crawling_DA = make_df(DA_result)\n",
    "save_df(wanted_crawling_DA)\n",
    "\n",
    "DE_result = crawling_wanted(DE_position_urls, driver)\n",
    "wanted_crawling_DE = make_df(DE_result)\n",
    "save_df(wanted_crawling_DE)"
   ]
  },
  {
   "cell_type": "code",
   "execution_count": null,
   "metadata": {},
   "outputs": [],
   "source": []
  }
 ],
 "metadata": {
  "kernelspec": {
   "display_name": "Python 3",
   "language": "python",
   "name": "python3"
  },
  "language_info": {
   "codemirror_mode": {
    "name": "ipython",
    "version": 3
   },
   "file_extension": ".py",
   "mimetype": "text/x-python",
   "name": "python",
   "nbconvert_exporter": "python",
   "pygments_lexer": "ipython3",
   "version": "3.8.9"
  },
  "vscode": {
   "interpreter": {
    "hash": "31f2aee4e71d21fbe5cf8b01ff0e069b9275f58929596ceb00d14d90e3e16cd6"
   }
  }
 },
 "nbformat": 4,
 "nbformat_minor": 5
}
